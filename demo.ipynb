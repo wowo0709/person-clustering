{
 "cells": [
  {
   "cell_type": "code",
   "execution_count": null,
   "metadata": {},
   "outputs": [],
   "source": [
    "from face_extractor import FaceExtractor"
   ]
  },
  {
   "cell_type": "code",
   "execution_count": null,
   "metadata": {},
   "outputs": [],
   "source": [
    "video_paths = {\n",
    "    0: \"/opt/ml/project/test_videos/giha_before_13m.mp4\",\n",
    "}"
   ]
  },
  {
   "cell_type": "code",
   "execution_count": null,
   "metadata": {},
   "outputs": [],
   "source": [
    "video_num = 0\n",
    "video_path = video_paths[video_num]\n",
    "result_dir = video_path[:-4] + '_result'\n",
    "\n",
    "face_extractor = FaceExtractor(\n",
    "    video_path = video_path,\n",
    "    result_dir = result_dir,\n",
    ")"
   ]
  },
  {
   "cell_type": "code",
   "execution_count": null,
   "metadata": {},
   "outputs": [],
   "source": [
    "face_extractor.print_video_infos()"
   ]
  },
  {
   "cell_type": "code",
   "execution_count": 1,
   "metadata": {},
   "outputs": [
    {
     "ename": "SyntaxError",
     "evalue": "cannot assign to function call (2243484728.py, line 1)",
     "output_type": "error",
     "traceback": [
      "\u001b[0;36m  Input \u001b[0;32mIn [1]\u001b[0;36m\u001b[0m\n\u001b[0;31m    eval('abc') = 1\u001b[0m\n\u001b[0m    ^\u001b[0m\n\u001b[0;31mSyntaxError\u001b[0m\u001b[0;31m:\u001b[0m cannot assign to function call\n"
     ]
    }
   ],
   "source": [
    "fingerprints = face_extractor.run(\n",
    "    face_cnt=350,\n",
    "    frame_batch_size=16,\n",
    "    face_cloth_weights=[1.0, 1.0],\n",
    "    use_scene_transition=False,\n",
    "    capture_interval_sec=3,\n",
    "    stop_sec=0,\n",
    "    skip_sec=0,\n",
    "    resizing_resolution=1000,\n",
    "    resizing_ratio=None\n",
    ")"
   ]
  },
  {
   "cell_type": "code",
   "execution_count": null,
   "metadata": {},
   "outputs": [],
   "source": [
    "# Print clustering result\n",
    "clusters = calc.cluster(fingerprints, sim=0.63, min_csize=4) # the higher, the stricter\n",
    "\n",
    "postproc.make_links(clusters, os.path.join(result_dir, 'imagecluster/clusters'))\n",
    "\n",
    "images = icio.read_images(result_dir, size=(224,224))\n",
    "\n",
    "fig, ax = postproc.plot_clusters(clusters, images)\n",
    "fig.savefig(os.path.join(result_dir, 'imagecluster/_cluster.png'))\n",
    "postproc.plt.show()"
   ]
  },
  {
   "cell_type": "code",
   "execution_count": null,
   "metadata": {},
   "outputs": [],
   "source": [
    "# After merging\n",
    "FACE_THRESHOLD_HARD = 0.18\n",
    "CLOTH_THRESHOLD_HARD = 0.12\n",
    "merged_clusters = postproc.merge_clusters(clusters, fingerprints, FACE_THRESHOLD_HARD, CLOTH_THRESHOLD_HARD, iteration=1)\n",
    "\n",
    "postproc.make_links(merged_clusters, os.path.join(result_dir, 'imagecluster/merged_clusters'))\n",
    "\n",
    "images = icio.read_images(result_dir, size=(224,224))\n",
    "\n",
    "fig, ax = postproc.plot_clusters(merged_clusters, images)\n",
    "fig.savefig(os.path.join(result_dir, 'imagecluster/_merged_cluster.png'))\n",
    "postproc.plt.show()"
   ]
  },
  {
   "cell_type": "code",
   "execution_count": null,
   "metadata": {},
   "outputs": [],
   "source": []
  },
  {
   "cell_type": "code",
   "execution_count": null,
   "metadata": {},
   "outputs": [],
   "source": []
  }
 ],
 "metadata": {
  "kernelspec": {
   "display_name": "Python 3.8.5 ('base')",
   "language": "python",
   "name": "python3"
  },
  "language_info": {
   "codemirror_mode": {
    "name": "ipython",
    "version": 3
   },
   "file_extension": ".py",
   "mimetype": "text/x-python",
   "name": "python",
   "nbconvert_exporter": "python",
   "pygments_lexer": "ipython3",
   "version": "3.8.5"
  },
  "orig_nbformat": 4,
  "vscode": {
   "interpreter": {
    "hash": "d4d1e4263499bec80672ea0156c357c1ee493ec2b1c70f0acce89fc37c4a6abe"
   }
  }
 },
 "nbformat": 4,
 "nbformat_minor": 2
}
